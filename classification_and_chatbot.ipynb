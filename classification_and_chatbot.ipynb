{
 "cells": [
  {
   "cell_type": "code",
   "execution_count": null,
   "metadata": {},
   "outputs": [],
   "source": [
    "#Če niso nameščene knjižnice, jih namestimo lahko s pomočjo ukaza\n",
    "#%pip install _______\n",
    "\n",
    "from datetime import datetime\n",
    "import pandas as pd\n",
    "from datetime import datetime, timedelta\n",
    "import ipywidgets as widgets\n",
    "from IPython.display import display\n",
    "import plotly.express as px\n",
    "import ipywidgets as widgets\n",
    "from ipywidgets import interact\n",
    "import openai\n",
    "#Tukaj se vpiše API ključ\n"
   ]
  },
  {
   "cell_type": "code",
   "execution_count": 2,
   "metadata": {},
   "outputs": [
    {
     "name": "stdout",
     "output_type": "stream",
     "text": [
      "Message: Čuj te,  zakaj denar še ni prišel na moj bančni račun\n",
      "Predicted category: withdrawal_issues\n"
     ]
    }
   ],
   "source": [
    "CATEGORIES = [\n",
    "    \"deposit_issues\",\n",
    "    \"withdrawal_issues\",\n",
    "    \"bonus_issues\",\n",
    "    \"game_issues\",\n",
    "    \"account_issues\",\n",
    "    \"login_issues\",\n",
    "    \"payment_issues\",\n",
    "    \"technical_issues\",\n",
    "    \"other_issues\",\n",
    "]\n",
    "\n",
    "def classify_message(message_text: str) -> str:\n",
    "    prompt = (\n",
    "        \"You are a message classifier for a casino support system. \"\n",
    "        \"Given a user's message, classify it into one of these categories:\\n\"\n",
    "        f\"{', '.join(CATEGORIES)}.\\n\"\n",
    "        \"If it doesn't match any category well, classify it as other_issues.\\n\"\n",
    "        \"Message:\\n\"\n",
    "        f\"{message_text}\\n\"\n",
    "        \"Category:\"\n",
    "    )\n",
    "\n",
    "    response = openai.ChatCompletion.create(\n",
    "        model=\"gpt-3.5-turbo\",\n",
    "        messages=[\n",
    "            {\"role\": \"system\", \"content\": \"You are a helpful assistant.\"},\n",
    "            {\"role\": \"user\", \"content\": prompt},\n",
    "        ],\n",
    "        temperature=0\n",
    "    )\n",
    "\n",
    "    category_guess = response.choices[0].message.content.strip().lower()\n",
    "\n",
    "    # to je potrebno ker chat ni popolnoma zanesljiv\n",
    "    if category_guess not in CATEGORIES:\n",
    "        category_guess = \"other_issues\"\n",
    "    return category_guess\n",
    "\n",
    "# primer uporabe\n",
    "test_message = \"Čuj te,  zakaj denar še ni prišel na moj bančni račun\"\n",
    "predicted_category = classify_message(test_message)\n",
    "print(\"Message:\", test_message)\n",
    "print(\"Predicted category:\", predicted_category)"
   ]
  },
  {
   "cell_type": "code",
   "execution_count": 3,
   "metadata": {},
   "outputs": [
    {
     "data": {
      "text/plain": [
       "' \\ndf = load_and_classify_data(\"Data.csv\")\\ndf.to_csv(\\'data_classified.csv\\', index=False)\\n'"
      ]
     },
     "execution_count": 3,
     "metadata": {},
     "output_type": "execute_result"
    }
   ],
   "source": [
    "def load_and_classify_data(csv_path=\"Data.csv\") -> pd.DataFrame:\n",
    "\n",
    "    df = pd.read_csv(csv_path)\n",
    "    \n",
    "    df[\"timestamp\"] = pd.to_datetime(df[\"timestamp\"], format=\"%m/%d/%Y\", errors=\"coerce\")\n",
    "\n",
    "    \n",
    "    categories = []\n",
    "    for msg in df[\"message\"]:\n",
    "        \n",
    "        cat = classify_message(str(msg))\n",
    "        categories.append(cat)\n",
    "        print(msg,cat)\n",
    "    df[\"category\"] = categories\n",
    "    return df\n",
    "\n",
    "# Traja 37 minut in stane denar, zato sem zakomentiral\n",
    "# tega ni potrebno runnat vsakič, ker je že narejen data_classified.csv file\n",
    "''' \n",
    "df = load_and_classify_data(\"Data.csv\")\n",
    "df.to_csv('data_classified.csv', index=False)\n",
    "'''"
   ]
  },
  {
   "cell_type": "code",
   "execution_count": 4,
   "metadata": {},
   "outputs": [],
   "source": [
    "\n",
    "\n",
    "class Chatbot:\n",
    "\n",
    "    def __init__(self, dataframe: pd.DataFrame):\n",
    "        \n",
    "        self.df = dataframe.copy()\n",
    "        self.df[\"timestamp\"] = pd.to_datetime(self.df[\"timestamp\"], errors=\"coerce\")\n",
    "        self.context = {}\n",
    "    \n",
    "    def filter_messages(self, category=None, source=None, since=None, until=None) -> pd.DataFrame:\n",
    "        \"\"\"Filtrirajmo DataFrame na podlagi izbranih parametrov.\"\"\"\n",
    "        filtered = self.df\n",
    "        if category:\n",
    "            filtered = filtered[filtered[\"category\"] == category]\n",
    "        if source:\n",
    "            filtered = filtered[filtered[\"source\"].str.lower() == source.lower()]\n",
    "        if since:\n",
    "            filtered = filtered[filtered[\"timestamp\"] >= since]\n",
    "        if until:\n",
    "            filtered = filtered[filtered[\"timestamp\"] <= until]\n",
    "        return filtered\n",
    "\n",
    "    def parse_query(self, user_query: str) -> dict:\n",
    "        \"\"\"\n",
    "        Iz povedi izlušči pomen. Kategorijo, vir in časovno obdobje.\n",
    "        \"\"\"\n",
    "        parsed = {}\n",
    "        lower_q = user_query.lower()\n",
    "\n",
    "        \n",
    "        for cat in CATEGORIES:\n",
    "            if cat.replace(\"_\", \" \") in lower_q:\n",
    "                parsed[\"category\"] = cat\n",
    "\n",
    "       \n",
    "        if \"livechat\" in lower_q:\n",
    "            parsed[\"source\"] = \"livechat\"\n",
    "        elif \"telegram\" in lower_q:\n",
    "            parsed[\"source\"] = \"telegram\"\n",
    "\n",
    "       \n",
    "        now = datetime.now()\n",
    "\n",
    "        prompt = f\"\"\"\n",
    "        Extract timeframe information from the following text. Analyze the text and output a JSON object.\n",
    "        The JSON object must be one of two formats:\n",
    "        1) For relative time, output {{ \"amount\": <number>, \"unit\": \"<week|month|year>\" }}.\n",
    "        2) For an absolute date range, output {{ \"since\": \"<YYYY-MM-DD>\", \"until\": \"<YYYY-MM-DD>\" }}.\n",
    "        If no timeframe is found, output an empty JSON object {{}}.\n",
    "        Text: \"{user_query}\"\n",
    "        For example, if the text is \"last 2 weeks\", return {{\"amount\": 2, \"unit\": \"week\"}}.\n",
    "        If the text is \"first 5 days of november 2024\", return {{\"since\": \"2024-11-01\", \"until\": \"2024-11-05\"}}.\n",
    "        \"\"\"\n",
    "        try:\n",
    "            response = openai.ChatCompletion.create(\n",
    "                model=\"gpt-3.5-turbo\",\n",
    "                messages=[\n",
    "                    {\"role\": \"system\", \"content\": \"You extract timeframe information from text.\"},\n",
    "                    {\"role\": \"user\", \"content\": prompt},\n",
    "                ],\n",
    "                temperature=0,\n",
    "            )\n",
    "            reply = response.choices[0].message.content.strip()\n",
    "            import json\n",
    "            time_info = json.loads(reply)\n",
    "\n",
    "            \n",
    "            if \"since\" in time_info and \"until\" in time_info:\n",
    "                try:\n",
    "                    parsed[\"since\"] = datetime.strptime(time_info[\"since\"], \"%Y-%m-%d\")\n",
    "                    parsed[\"until\"] = datetime.strptime(time_info[\"until\"], \"%Y-%m-%d\")\n",
    "                except Exception as e:\n",
    "                    \n",
    "                    pass\n",
    "            \n",
    "            elif \"amount\" in time_info and \"unit\" in time_info:\n",
    "                amount = int(time_info[\"amount\"])\n",
    "                unit = time_info[\"unit\"].lower()\n",
    "                if unit.startswith(\"week\"):\n",
    "                    parsed[\"since\"] = now - timedelta(weeks=amount)\n",
    "                elif unit.startswith(\"month\"):\n",
    "                    parsed[\"since\"] = now - timedelta(days=30 * amount)\n",
    "                elif unit.startswith(\"year\"):\n",
    "                    parsed[\"since\"] = now.replace(year=now.year - amount)\n",
    "            \n",
    "        except Exception as e:\n",
    "            \n",
    "            pass\n",
    "\n",
    "        return parsed\n",
    "\n",
    "    def handle_query(self, user_query: str) -> dict:\n",
    "        \"\"\"\n",
    "        tukaj se vse začne in konča\n",
    "        \"\"\"\n",
    "        lower_q = user_query.lower()\n",
    "        new_context = self.parse_query(user_query)\n",
    "        \n",
    "        \n",
    "        if \"telegram\" in lower_q and \"livechat\" in lower_q:\n",
    "            \n",
    "            base_context = new_context.copy()\n",
    "            \n",
    "            telegram_context = base_context.copy()\n",
    "            telegram_context[\"source\"] = \"telegram\"\n",
    "            telegram_data = self.filter_messages(\n",
    "                category=self.context.get(\"category\", telegram_context.get(\"category\")),\n",
    "                source=telegram_context.get(\"source\"),\n",
    "                since=self.context.get(\"since\", telegram_context.get(\"since\")),\n",
    "                until=self.context.get(\"until\", telegram_context.get(\"until\"))\n",
    "            )\n",
    "            telegram_response = {\n",
    "                \"source\": \"telegram\",\n",
    "                \"count\": len(telegram_data),\n",
    "                \"unique_users\": telegram_data[\"id_user\"].nunique()\n",
    "            }\n",
    "\n",
    "            \n",
    "            livechat_context = base_context.copy()\n",
    "            livechat_context[\"source\"] = \"livechat\"\n",
    "            livechat_data = self.filter_messages(\n",
    "                category=self.context.get(\"category\", livechat_context.get(\"category\")),\n",
    "                source=livechat_context.get(\"source\"),\n",
    "                since=self.context.get(\"since\", livechat_context.get(\"since\")),\n",
    "                until=self.context.get(\"until\", livechat_context.get(\"until\"))\n",
    "            )\n",
    "            livechat_response = {\n",
    "                \"source\": \"livechat\",\n",
    "                \"count\": len(livechat_data),\n",
    "                \"unique_users\": livechat_data[\"id_user\"].nunique()\n",
    "            }\n",
    "            \n",
    "            return {\"telegram\": telegram_response, \"livechat\": livechat_response}\n",
    "        else:\n",
    "            \n",
    "            self.context.update(new_context)\n",
    "            data = self.filter_messages(\n",
    "                category=self.context.get(\"category\"),\n",
    "                source=self.context.get(\"source\"),\n",
    "                since=self.context.get(\"since\"),\n",
    "                until=self.context.get(\"until\")\n",
    "            )\n",
    "            return {\n",
    "                \"category\": self.context.get(\"category\", \"not specified\"),\n",
    "                \"source\": self.context.get(\"source\", \"not specified\"),\n",
    "                \"count\": len(data),\n",
    "                \"unique_users\": data[\"id_user\"].nunique()\n",
    "            }"
   ]
  },
  {
   "cell_type": "code",
   "execution_count": 5,
   "metadata": {},
   "outputs": [
    {
     "data": {
      "application/vnd.microsoft.datawrangler.viewer.v0+json": {
       "columns": [
        {
         "name": "index",
         "rawType": "int64",
         "type": "integer"
        },
        {
         "name": "id_user",
         "rawType": "int64",
         "type": "integer"
        },
        {
         "name": "timestamp",
         "rawType": "object",
         "type": "string"
        },
        {
         "name": "source",
         "rawType": "object",
         "type": "string"
        },
        {
         "name": "message",
         "rawType": "object",
         "type": "string"
        },
        {
         "name": "category",
         "rawType": "object",
         "type": "string"
        }
       ],
       "conversionMethod": "pd.DataFrame",
       "ref": "5fd6b7c7-bebf-4a66-b7b1-84c86eeb2d17",
       "rows": [
        [
         "0",
         "4844",
         "2024-11-01",
         "livechat",
         "\"What time is it where u are\"",
         "other_issues"
        ],
        [
         "1",
         "3985",
         "2024-11-01",
         "livechat",
         "\"What happened to the Cashback piggy?\"",
         "game_issues"
        ],
        [
         "2",
         "2578",
         "2024-11-01",
         "livechat",
         "\"Deactivated\"",
         "other_issues"
        ],
        [
         "3",
         "1040",
         "2024-11-01",
         "telegram",
         "\"It says access issues detected\"",
         "technical_issues"
        ],
        [
         "4",
         "4288",
         "2024-11-01",
         "livechat",
         "\"Im in arizona\"",
         "other_issues"
        ]
       ],
       "shape": {
        "columns": 5,
        "rows": 5
       }
      },
      "text/html": [
       "<div>\n",
       "<style scoped>\n",
       "    .dataframe tbody tr th:only-of-type {\n",
       "        vertical-align: middle;\n",
       "    }\n",
       "\n",
       "    .dataframe tbody tr th {\n",
       "        vertical-align: top;\n",
       "    }\n",
       "\n",
       "    .dataframe thead th {\n",
       "        text-align: right;\n",
       "    }\n",
       "</style>\n",
       "<table border=\"1\" class=\"dataframe\">\n",
       "  <thead>\n",
       "    <tr style=\"text-align: right;\">\n",
       "      <th></th>\n",
       "      <th>id_user</th>\n",
       "      <th>timestamp</th>\n",
       "      <th>source</th>\n",
       "      <th>message</th>\n",
       "      <th>category</th>\n",
       "    </tr>\n",
       "  </thead>\n",
       "  <tbody>\n",
       "    <tr>\n",
       "      <th>0</th>\n",
       "      <td>4844</td>\n",
       "      <td>2024-11-01</td>\n",
       "      <td>livechat</td>\n",
       "      <td>\"What time is it where u are\"</td>\n",
       "      <td>other_issues</td>\n",
       "    </tr>\n",
       "    <tr>\n",
       "      <th>1</th>\n",
       "      <td>3985</td>\n",
       "      <td>2024-11-01</td>\n",
       "      <td>livechat</td>\n",
       "      <td>\"What happened to the Cashback piggy?\"</td>\n",
       "      <td>game_issues</td>\n",
       "    </tr>\n",
       "    <tr>\n",
       "      <th>2</th>\n",
       "      <td>2578</td>\n",
       "      <td>2024-11-01</td>\n",
       "      <td>livechat</td>\n",
       "      <td>\"Deactivated\"</td>\n",
       "      <td>other_issues</td>\n",
       "    </tr>\n",
       "    <tr>\n",
       "      <th>3</th>\n",
       "      <td>1040</td>\n",
       "      <td>2024-11-01</td>\n",
       "      <td>telegram</td>\n",
       "      <td>\"It says access issues detected\"</td>\n",
       "      <td>technical_issues</td>\n",
       "    </tr>\n",
       "    <tr>\n",
       "      <th>4</th>\n",
       "      <td>4288</td>\n",
       "      <td>2024-11-01</td>\n",
       "      <td>livechat</td>\n",
       "      <td>\"Im in arizona\"</td>\n",
       "      <td>other_issues</td>\n",
       "    </tr>\n",
       "  </tbody>\n",
       "</table>\n",
       "</div>"
      ],
      "text/plain": [
       "   id_user   timestamp    source                                 message  \\\n",
       "0     4844  2024-11-01  livechat           \"What time is it where u are\"   \n",
       "1     3985  2024-11-01  livechat  \"What happened to the Cashback piggy?\"   \n",
       "2     2578  2024-11-01  livechat                           \"Deactivated\"   \n",
       "3     1040  2024-11-01  telegram        \"It says access issues detected\"   \n",
       "4     4288  2024-11-01  livechat                         \"Im in arizona\"   \n",
       "\n",
       "           category  \n",
       "0      other_issues  \n",
       "1       game_issues  \n",
       "2      other_issues  \n",
       "3  technical_issues  \n",
       "4      other_issues  "
      ]
     },
     "execution_count": 5,
     "metadata": {},
     "output_type": "execute_result"
    }
   ],
   "source": [
    "df = pd.read_csv('data_classified.csv')\n",
    "df.head()"
   ]
  },
  {
   "cell_type": "code",
   "execution_count": 6,
   "metadata": {},
   "outputs": [
    {
     "name": "stdout",
     "output_type": "stream",
     "text": [
      "User query: Telegram deposit issues in the first 1 day of November 2024\n",
      "{'category': 'deposit_issues', 'source': 'telegram', 'count': 1, 'unique_users': 1} \n",
      "\n",
      "User query: in the first 11 days of November 2024\n",
      "{'category': 'deposit_issues', 'source': 'telegram', 'count': 9, 'unique_users': 9} \n",
      "\n",
      "User query: What about LiveChat?\n",
      "{'category': 'deposit_issues', 'source': 'livechat', 'count': 24, 'unique_users': 24} \n",
      "\n",
      "User query: Now show me game issues\n",
      "{'category': 'game_issues', 'source': 'livechat', 'count': 41, 'unique_users': 41} \n",
      "\n",
      "User query: Actually, restrict to just the last month\n",
      "{'category': 'game_issues', 'source': 'livechat', 'count': 0, 'unique_users': 0} \n",
      "\n",
      "User query: Switch to login issues reported in the last year\n",
      "{'category': 'login_issues', 'source': 'livechat', 'count': 6, 'unique_users': 6} \n",
      "\n",
      "User query: Switch to telegram and livechat\n",
      "{'telegram': {'source': 'telegram', 'count': 1, 'unique_users': 1}, 'livechat': {'source': 'livechat', 'count': 6, 'unique_users': 6}} \n",
      "\n"
     ]
    }
   ],
   "source": [
    "\n",
    "\n",
    "SteveTheBot = Chatbot(df)\n",
    "\n",
    "\n",
    "example_queries = [\n",
    "    \"Telegram deposit issues in the first 1 day of November 2024\",\n",
    "    \"in the first 11 days of November 2024\",\n",
    "    \"What about LiveChat?\",\n",
    "    \"Now show me game issues\", \n",
    "    \"Actually, restrict to just the last month\",\n",
    "    \"Switch to login issues reported in the last year\",\n",
    "    \"Switch to telegram and livechat\"\n",
    "]\n",
    "\n",
    "# Zalaufa chatbot in izpise odgovore na zgornje primere\n",
    "for query in example_queries:\n",
    "    print(\"User query:\", query)\n",
    "    response = SteveTheBot.handle_query(query)\n",
    "    print(response, \"\\n\")\n",
    "    \n"
   ]
  },
  {
   "cell_type": "code",
   "execution_count": 7,
   "metadata": {},
   "outputs": [
    {
     "data": {
      "application/vnd.jupyter.widget-view+json": {
       "model_id": "8cd0b5a2842741d4b3f136befb760b67",
       "version_major": 2,
       "version_minor": 0
      },
      "text/plain": [
       "Text(value='', description='Query:', layout=Layout(width='70%'), placeholder='Enter your query...')"
      ]
     },
     "metadata": {},
     "output_type": "display_data"
    },
    {
     "data": {
      "application/vnd.jupyter.widget-view+json": {
       "model_id": "576d6e3e0f6a40fda309831566f4d386",
       "version_major": 2,
       "version_minor": 0
      },
      "text/plain": [
       "Button(description='Send', style=ButtonStyle())"
      ]
     },
     "metadata": {},
     "output_type": "display_data"
    },
    {
     "data": {
      "application/vnd.jupyter.widget-view+json": {
       "model_id": "d566ec36c7254ff4ac662a37eee2dc34",
       "version_major": 2,
       "version_minor": 0
      },
      "text/plain": [
       "Output(layout=Layout(border_bottom='1px solid black', border_left='1px solid black', border_right='1px solid b…"
      ]
     },
     "metadata": {},
     "output_type": "display_data"
    }
   ],
   "source": [
    "\n",
    "query_input = widgets.Text(\n",
    "    placeholder=\"Enter your query...\",\n",
    "    description=\"Query:\",\n",
    "    layout=widgets.Layout(width='70%')\n",
    ")\n",
    "send_button = widgets.Button(description=\"Send\")\n",
    "output_area = widgets.Output(layout={'border': '1px solid black'})\n",
    "\n",
    "def on_send_click(b):\n",
    "    user_query = query_input.value\n",
    "    response = SteveTheBot.handle_query(user_query)\n",
    "    with output_area:\n",
    "        output_area.clear_output()\n",
    "        print(f\"User query: {user_query}\")\n",
    "        print(\"Response:\", response)\n",
    "\n",
    "send_button.on_click(on_send_click)\n",
    "display(query_input, send_button, output_area)\n"
   ]
  },
  {
   "cell_type": "code",
   "execution_count": 8,
   "metadata": {},
   "outputs": [
    {
     "data": {
      "application/vnd.jupyter.widget-view+json": {
       "model_id": "75e8c8ff23824ff69dbf0d4e35b70731",
       "version_major": 2,
       "version_minor": 0
      },
      "text/plain": [
       "interactive(children=(Dropdown(description='Category:', options=('account_issues', 'bonus_issues', 'deposit_is…"
      ]
     },
     "metadata": {},
     "output_type": "display_data"
    },
    {
     "data": {
      "text/plain": [
       "<function __main__.interactive_plot(target_category)>"
      ]
     },
     "execution_count": 8,
     "metadata": {},
     "output_type": "execute_result"
    }
   ],
   "source": [
    "\n",
    "\n",
    "df = pd.read_csv('data_classified.csv')\n",
    "df.columns = [\"id_user\", \"timestamp\", \"source\", \"message\", \"category\"]\n",
    "\n",
    "df['timestamp'] = pd.to_datetime(df['timestamp'], errors='raise')\n",
    "df['date'] = df['timestamp'].dt.date\n",
    "\n",
    "category_counts = df.groupby(['date', 'category']).size().unstack(fill_value=0)\n",
    "\n",
    "categories = list(category_counts.columns)\n",
    "\n",
    "def interactive_plot(target_category):\n",
    "    fig = px.line(category_counts, x=category_counts.index, y=target_category, markers=True,\n",
    "                  title=f\"Daily Count of '{target_category}'\")\n",
    "    \n",
    "    count_data = category_counts[target_category]\n",
    "    mean_val = count_data.mean()\n",
    "    std_val = count_data.std()\n",
    "    threshold = mean_val + 2 * std_val\n",
    "    \n",
    "    spike_dates = count_data[count_data > threshold].index.tolist()\n",
    "    spike_values = count_data[count_data > threshold].tolist()\n",
    "    \n",
    "    fig.add_scatter(x=spike_dates, y=spike_values, mode=\"markers\",\n",
    "                    marker=dict(color=\"red\", size=10),\n",
    "                    name=\"Spike (Mean + 2*Std)\")\n",
    "    fig.update_layout(xaxis_title=\"Date\", yaxis_title=\"Number of Issues\")\n",
    "    fig.show()\n",
    "\n",
    "interact(interactive_plot, target_category=widgets.Dropdown(options=categories, description=\"Category:\"))"
   ]
  }
 ],
 "metadata": {
  "kernelspec": {
   "display_name": "Python 3",
   "language": "python",
   "name": "python3"
  },
  "language_info": {
   "codemirror_mode": {
    "name": "ipython",
    "version": 3
   },
   "file_extension": ".py",
   "mimetype": "text/x-python",
   "name": "python",
   "nbconvert_exporter": "python",
   "pygments_lexer": "ipython3",
   "version": "3.12.9"
  }
 },
 "nbformat": 4,
 "nbformat_minor": 2
}
